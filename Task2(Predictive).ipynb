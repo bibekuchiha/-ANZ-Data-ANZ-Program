{
  "nbformat": 4,
  "nbformat_minor": 0,
  "metadata": {
    "colab": {
      "name": "Task2(Predictive).ipynb",
      "provenance": [],
      "authorship_tag": "ABX9TyOp1t198e0wM/uGxlufkEt6",
      "include_colab_link": true
    },
    "kernelspec": {
      "name": "python3",
      "display_name": "Python 3"
    }
  },
  "cells": [
    {
      "cell_type": "markdown",
      "metadata": {
        "id": "view-in-github",
        "colab_type": "text"
      },
      "source": [
        "<a href=\"https://colab.research.google.com/github/bibekuchiha/-ANZ-Data-ANZ-Program/blob/master/Task2(Predictive).ipynb\" target=\"_parent\"><img src=\"https://colab.research.google.com/assets/colab-badge.svg\" alt=\"Open In Colab\"/></a>"
      ]
    },
    {
      "cell_type": "code",
      "metadata": {
        "id": "MvYmH4lJop2n",
        "colab_type": "code",
        "colab": {}
      },
      "source": [
        "import pandas as pd\n",
        "import seaborn as sns\n",
        "from sklearn.model_selection import train_test_split\n",
        "import statsmodels.api as sm\n",
        "from sklearn.linear_model import LinearRegression\n",
        "from mpl_toolkits import mplot3d\n",
        "%matplotlib inline\n",
        "import numpy as np\n",
        "import matplotlib.pyplot as plt\n",
        "from sklearn import metrics\n",
        "from sklearn.tree import DecisionTreeRegressor\n",
        "from sklearn.model_selection import cross_val_predict\n",
        "\n",
        "\n",
        "\n"
      ],
      "execution_count": 45,
      "outputs": []
    },
    {
      "cell_type": "code",
      "metadata": {
        "id": "eqY9gMaco1NB",
        "colab_type": "code",
        "colab": {
          "base_uri": "https://localhost:8080/",
          "height": 330
        },
        "outputId": "b50ff953-d0d6-4bec-bb65-be38666743b8"
      },
      "source": [
        "df = pd.read_excel(\"ANZ synthesised transaction dataset.xlsx\")\n",
        "df.head()"
      ],
      "execution_count": 46,
      "outputs": [
        {
          "output_type": "execute_result",
          "data": {
            "text/html": [
              "<div>\n",
              "<style scoped>\n",
              "    .dataframe tbody tr th:only-of-type {\n",
              "        vertical-align: middle;\n",
              "    }\n",
              "\n",
              "    .dataframe tbody tr th {\n",
              "        vertical-align: top;\n",
              "    }\n",
              "\n",
              "    .dataframe thead th {\n",
              "        text-align: right;\n",
              "    }\n",
              "</style>\n",
              "<table border=\"1\" class=\"dataframe\">\n",
              "  <thead>\n",
              "    <tr style=\"text-align: right;\">\n",
              "      <th></th>\n",
              "      <th>status</th>\n",
              "      <th>card_present_flag</th>\n",
              "      <th>bpay_biller_code</th>\n",
              "      <th>account</th>\n",
              "      <th>currency</th>\n",
              "      <th>long_lat</th>\n",
              "      <th>txn_description</th>\n",
              "      <th>merchant_id</th>\n",
              "      <th>merchant_code</th>\n",
              "      <th>first_name</th>\n",
              "      <th>balance</th>\n",
              "      <th>date</th>\n",
              "      <th>gender</th>\n",
              "      <th>age</th>\n",
              "      <th>merchant_suburb</th>\n",
              "      <th>merchant_state</th>\n",
              "      <th>extraction</th>\n",
              "      <th>amount</th>\n",
              "      <th>transaction_id</th>\n",
              "      <th>country</th>\n",
              "      <th>customer_id</th>\n",
              "      <th>merchant_long_lat</th>\n",
              "      <th>movement</th>\n",
              "    </tr>\n",
              "  </thead>\n",
              "  <tbody>\n",
              "    <tr>\n",
              "      <th>0</th>\n",
              "      <td>authorized</td>\n",
              "      <td>1.0</td>\n",
              "      <td>NaN</td>\n",
              "      <td>ACC-1598451071</td>\n",
              "      <td>AUD</td>\n",
              "      <td>153.41 -27.95</td>\n",
              "      <td>POS</td>\n",
              "      <td>81c48296-73be-44a7-befa-d053f48ce7cd</td>\n",
              "      <td>NaN</td>\n",
              "      <td>Diana</td>\n",
              "      <td>35.39</td>\n",
              "      <td>2018-08-01</td>\n",
              "      <td>F</td>\n",
              "      <td>26</td>\n",
              "      <td>Ashmore</td>\n",
              "      <td>QLD</td>\n",
              "      <td>2018-08-01T01:01:15.000+0000</td>\n",
              "      <td>16.25</td>\n",
              "      <td>a623070bfead4541a6b0fff8a09e706c</td>\n",
              "      <td>Australia</td>\n",
              "      <td>CUS-2487424745</td>\n",
              "      <td>153.38 -27.99</td>\n",
              "      <td>debit</td>\n",
              "    </tr>\n",
              "    <tr>\n",
              "      <th>1</th>\n",
              "      <td>authorized</td>\n",
              "      <td>0.0</td>\n",
              "      <td>NaN</td>\n",
              "      <td>ACC-1598451071</td>\n",
              "      <td>AUD</td>\n",
              "      <td>153.41 -27.95</td>\n",
              "      <td>SALES-POS</td>\n",
              "      <td>830a451c-316e-4a6a-bf25-e37caedca49e</td>\n",
              "      <td>NaN</td>\n",
              "      <td>Diana</td>\n",
              "      <td>21.20</td>\n",
              "      <td>2018-08-01</td>\n",
              "      <td>F</td>\n",
              "      <td>26</td>\n",
              "      <td>Sydney</td>\n",
              "      <td>NSW</td>\n",
              "      <td>2018-08-01T01:13:45.000+0000</td>\n",
              "      <td>14.19</td>\n",
              "      <td>13270a2a902145da9db4c951e04b51b9</td>\n",
              "      <td>Australia</td>\n",
              "      <td>CUS-2487424745</td>\n",
              "      <td>151.21 -33.87</td>\n",
              "      <td>debit</td>\n",
              "    </tr>\n",
              "    <tr>\n",
              "      <th>2</th>\n",
              "      <td>authorized</td>\n",
              "      <td>1.0</td>\n",
              "      <td>NaN</td>\n",
              "      <td>ACC-1222300524</td>\n",
              "      <td>AUD</td>\n",
              "      <td>151.23 -33.94</td>\n",
              "      <td>POS</td>\n",
              "      <td>835c231d-8cdf-4e96-859d-e9d571760cf0</td>\n",
              "      <td>NaN</td>\n",
              "      <td>Michael</td>\n",
              "      <td>5.71</td>\n",
              "      <td>2018-08-01</td>\n",
              "      <td>M</td>\n",
              "      <td>38</td>\n",
              "      <td>Sydney</td>\n",
              "      <td>NSW</td>\n",
              "      <td>2018-08-01T01:26:15.000+0000</td>\n",
              "      <td>6.42</td>\n",
              "      <td>feb79e7ecd7048a5a36ec889d1a94270</td>\n",
              "      <td>Australia</td>\n",
              "      <td>CUS-2142601169</td>\n",
              "      <td>151.21 -33.87</td>\n",
              "      <td>debit</td>\n",
              "    </tr>\n",
              "    <tr>\n",
              "      <th>3</th>\n",
              "      <td>authorized</td>\n",
              "      <td>1.0</td>\n",
              "      <td>NaN</td>\n",
              "      <td>ACC-1037050564</td>\n",
              "      <td>AUD</td>\n",
              "      <td>153.10 -27.66</td>\n",
              "      <td>SALES-POS</td>\n",
              "      <td>48514682-c78a-4a88-b0da-2d6302e64673</td>\n",
              "      <td>NaN</td>\n",
              "      <td>Rhonda</td>\n",
              "      <td>2117.22</td>\n",
              "      <td>2018-08-01</td>\n",
              "      <td>F</td>\n",
              "      <td>40</td>\n",
              "      <td>Buderim</td>\n",
              "      <td>QLD</td>\n",
              "      <td>2018-08-01T01:38:45.000+0000</td>\n",
              "      <td>40.90</td>\n",
              "      <td>2698170da3704fd981b15e64a006079e</td>\n",
              "      <td>Australia</td>\n",
              "      <td>CUS-1614226872</td>\n",
              "      <td>153.05 -26.68</td>\n",
              "      <td>debit</td>\n",
              "    </tr>\n",
              "    <tr>\n",
              "      <th>4</th>\n",
              "      <td>authorized</td>\n",
              "      <td>1.0</td>\n",
              "      <td>NaN</td>\n",
              "      <td>ACC-1598451071</td>\n",
              "      <td>AUD</td>\n",
              "      <td>153.41 -27.95</td>\n",
              "      <td>SALES-POS</td>\n",
              "      <td>b4e02c10-0852-4273-b8fd-7b3395e32eb0</td>\n",
              "      <td>NaN</td>\n",
              "      <td>Diana</td>\n",
              "      <td>17.95</td>\n",
              "      <td>2018-08-01</td>\n",
              "      <td>F</td>\n",
              "      <td>26</td>\n",
              "      <td>Mermaid Beach</td>\n",
              "      <td>QLD</td>\n",
              "      <td>2018-08-01T01:51:15.000+0000</td>\n",
              "      <td>3.25</td>\n",
              "      <td>329adf79878c4cf0aeb4188b4691c266</td>\n",
              "      <td>Australia</td>\n",
              "      <td>CUS-2487424745</td>\n",
              "      <td>153.44 -28.06</td>\n",
              "      <td>debit</td>\n",
              "    </tr>\n",
              "  </tbody>\n",
              "</table>\n",
              "</div>"
            ],
            "text/plain": [
              "       status  card_present_flag  ... merchant_long_lat movement\n",
              "0  authorized                1.0  ...     153.38 -27.99    debit\n",
              "1  authorized                0.0  ...     151.21 -33.87    debit\n",
              "2  authorized                1.0  ...     151.21 -33.87    debit\n",
              "3  authorized                1.0  ...     153.05 -26.68    debit\n",
              "4  authorized                1.0  ...     153.44 -28.06    debit\n",
              "\n",
              "[5 rows x 23 columns]"
            ]
          },
          "metadata": {
            "tags": []
          },
          "execution_count": 46
        }
      ]
    },
    {
      "cell_type": "markdown",
      "metadata": {
        "id": "drWn_qqlpHCD",
        "colab_type": "text"
      },
      "source": [
        "\n",
        "\n",
        "Modifying Data to obtain salary\n"
      ]
    },
    {
      "cell_type": "code",
      "metadata": {
        "id": "rncjfiz2o5Ed",
        "colab_type": "code",
        "colab": {
          "base_uri": "https://localhost:8080/",
          "height": 313
        },
        "outputId": "a0012528-663b-4061-f471-65180137d217"
      },
      "source": [
        "salary_txns = df[df['txn_description'] == 'PAY/SALARY']\n",
        "salary_txns.head()"
      ],
      "execution_count": 47,
      "outputs": [
        {
          "output_type": "execute_result",
          "data": {
            "text/html": [
              "<div>\n",
              "<style scoped>\n",
              "    .dataframe tbody tr th:only-of-type {\n",
              "        vertical-align: middle;\n",
              "    }\n",
              "\n",
              "    .dataframe tbody tr th {\n",
              "        vertical-align: top;\n",
              "    }\n",
              "\n",
              "    .dataframe thead th {\n",
              "        text-align: right;\n",
              "    }\n",
              "</style>\n",
              "<table border=\"1\" class=\"dataframe\">\n",
              "  <thead>\n",
              "    <tr style=\"text-align: right;\">\n",
              "      <th></th>\n",
              "      <th>status</th>\n",
              "      <th>card_present_flag</th>\n",
              "      <th>bpay_biller_code</th>\n",
              "      <th>account</th>\n",
              "      <th>currency</th>\n",
              "      <th>long_lat</th>\n",
              "      <th>txn_description</th>\n",
              "      <th>merchant_id</th>\n",
              "      <th>merchant_code</th>\n",
              "      <th>first_name</th>\n",
              "      <th>balance</th>\n",
              "      <th>date</th>\n",
              "      <th>gender</th>\n",
              "      <th>age</th>\n",
              "      <th>merchant_suburb</th>\n",
              "      <th>merchant_state</th>\n",
              "      <th>extraction</th>\n",
              "      <th>amount</th>\n",
              "      <th>transaction_id</th>\n",
              "      <th>country</th>\n",
              "      <th>customer_id</th>\n",
              "      <th>merchant_long_lat</th>\n",
              "      <th>movement</th>\n",
              "    </tr>\n",
              "  </thead>\n",
              "  <tbody>\n",
              "    <tr>\n",
              "      <th>50</th>\n",
              "      <td>posted</td>\n",
              "      <td>NaN</td>\n",
              "      <td>0</td>\n",
              "      <td>ACC-588564840</td>\n",
              "      <td>AUD</td>\n",
              "      <td>151.27 -33.76</td>\n",
              "      <td>PAY/SALARY</td>\n",
              "      <td>NaN</td>\n",
              "      <td>0.0</td>\n",
              "      <td>Isaiah</td>\n",
              "      <td>8342.11</td>\n",
              "      <td>2018-08-01</td>\n",
              "      <td>M</td>\n",
              "      <td>23</td>\n",
              "      <td>NaN</td>\n",
              "      <td>NaN</td>\n",
              "      <td>2018-08-01T11:00:00.000+0000</td>\n",
              "      <td>3903.95</td>\n",
              "      <td>9ca281650e5d482d9e53f85e959baa66</td>\n",
              "      <td>Australia</td>\n",
              "      <td>CUS-1462656821</td>\n",
              "      <td>NaN</td>\n",
              "      <td>credit</td>\n",
              "    </tr>\n",
              "    <tr>\n",
              "      <th>61</th>\n",
              "      <td>posted</td>\n",
              "      <td>NaN</td>\n",
              "      <td>0</td>\n",
              "      <td>ACC-1650504218</td>\n",
              "      <td>AUD</td>\n",
              "      <td>145.01 -37.93</td>\n",
              "      <td>PAY/SALARY</td>\n",
              "      <td>NaN</td>\n",
              "      <td>0.0</td>\n",
              "      <td>Marissa</td>\n",
              "      <td>2040.58</td>\n",
              "      <td>2018-08-01</td>\n",
              "      <td>F</td>\n",
              "      <td>23</td>\n",
              "      <td>NaN</td>\n",
              "      <td>NaN</td>\n",
              "      <td>2018-08-01T12:00:00.000+0000</td>\n",
              "      <td>1626.48</td>\n",
              "      <td>1822eb0e1bbe4c9e95ebbb0fa2cc4323</td>\n",
              "      <td>Australia</td>\n",
              "      <td>CUS-2500783281</td>\n",
              "      <td>NaN</td>\n",
              "      <td>credit</td>\n",
              "    </tr>\n",
              "    <tr>\n",
              "      <th>64</th>\n",
              "      <td>posted</td>\n",
              "      <td>NaN</td>\n",
              "      <td>0</td>\n",
              "      <td>ACC-3326339947</td>\n",
              "      <td>AUD</td>\n",
              "      <td>151.18 -33.80</td>\n",
              "      <td>PAY/SALARY</td>\n",
              "      <td>NaN</td>\n",
              "      <td>0.0</td>\n",
              "      <td>Eric</td>\n",
              "      <td>3158.51</td>\n",
              "      <td>2018-08-01</td>\n",
              "      <td>M</td>\n",
              "      <td>22</td>\n",
              "      <td>NaN</td>\n",
              "      <td>NaN</td>\n",
              "      <td>2018-08-01T12:00:00.000+0000</td>\n",
              "      <td>983.36</td>\n",
              "      <td>bd62b1799a454cedbbb56364f7c40cbf</td>\n",
              "      <td>Australia</td>\n",
              "      <td>CUS-326006476</td>\n",
              "      <td>NaN</td>\n",
              "      <td>credit</td>\n",
              "    </tr>\n",
              "    <tr>\n",
              "      <th>68</th>\n",
              "      <td>posted</td>\n",
              "      <td>NaN</td>\n",
              "      <td>0</td>\n",
              "      <td>ACC-3541460373</td>\n",
              "      <td>AUD</td>\n",
              "      <td>145.00 -37.83</td>\n",
              "      <td>PAY/SALARY</td>\n",
              "      <td>NaN</td>\n",
              "      <td>0.0</td>\n",
              "      <td>Jeffrey</td>\n",
              "      <td>2517.66</td>\n",
              "      <td>2018-08-01</td>\n",
              "      <td>M</td>\n",
              "      <td>24</td>\n",
              "      <td>NaN</td>\n",
              "      <td>NaN</td>\n",
              "      <td>2018-08-01T13:00:00.000+0000</td>\n",
              "      <td>1408.08</td>\n",
              "      <td>0d95c7c932bb48e5b44c2637bdd3efe9</td>\n",
              "      <td>Australia</td>\n",
              "      <td>CUS-1433879684</td>\n",
              "      <td>NaN</td>\n",
              "      <td>credit</td>\n",
              "    </tr>\n",
              "    <tr>\n",
              "      <th>70</th>\n",
              "      <td>posted</td>\n",
              "      <td>NaN</td>\n",
              "      <td>0</td>\n",
              "      <td>ACC-2776252858</td>\n",
              "      <td>AUD</td>\n",
              "      <td>144.95 -37.76</td>\n",
              "      <td>PAY/SALARY</td>\n",
              "      <td>NaN</td>\n",
              "      <td>0.0</td>\n",
              "      <td>Kristin</td>\n",
              "      <td>2271.79</td>\n",
              "      <td>2018-08-01</td>\n",
              "      <td>F</td>\n",
              "      <td>43</td>\n",
              "      <td>NaN</td>\n",
              "      <td>NaN</td>\n",
              "      <td>2018-08-01T13:00:00.000+0000</td>\n",
              "      <td>1068.04</td>\n",
              "      <td>f50ccf1195214d14a0acbfcb5a265193</td>\n",
              "      <td>Australia</td>\n",
              "      <td>CUS-4123612273</td>\n",
              "      <td>NaN</td>\n",
              "      <td>credit</td>\n",
              "    </tr>\n",
              "  </tbody>\n",
              "</table>\n",
              "</div>"
            ],
            "text/plain": [
              "    status  card_present_flag  ... merchant_long_lat movement\n",
              "50  posted                NaN  ...               NaN   credit\n",
              "61  posted                NaN  ...               NaN   credit\n",
              "64  posted                NaN  ...               NaN   credit\n",
              "68  posted                NaN  ...               NaN   credit\n",
              "70  posted                NaN  ...               NaN   credit\n",
              "\n",
              "[5 rows x 23 columns]"
            ]
          },
          "metadata": {
            "tags": []
          },
          "execution_count": 47
        }
      ]
    },
    {
      "cell_type": "code",
      "metadata": {
        "id": "cOic1Z6CpK2H",
        "colab_type": "code",
        "colab": {}
      },
      "source": [
        "salary_txns = salary_txns.drop(['status', \n",
        "                                'card_present_flag', \n",
        "                                'bpay_biller_code', \n",
        "                                'currency', \n",
        "                                'merchant_id', \n",
        "                                'merchant_code', \n",
        "                                'merchant_suburb',\n",
        "                                'merchant_state', \n",
        "                                'country', \n",
        "                                'merchant_long_lat', \n",
        "                                'movement',\n",
        "                                'txn_description',\n",
        "                                'extraction',\n",
        "                                'transaction_id'], axis=1)\n",
        "salary_txns = salary_txns.reset_index(drop=True)\n",
        "\n"
      ],
      "execution_count": 48,
      "outputs": []
    },
    {
      "cell_type": "code",
      "metadata": {
        "id": "3JdomW2BsQZG",
        "colab_type": "code",
        "colab": {
          "base_uri": "https://localhost:8080/",
          "height": 206
        },
        "outputId": "1ebe2e86-3d1c-4474-8d42-a122649c542f"
      },
      "source": [
        "salary_txns.head()"
      ],
      "execution_count": 49,
      "outputs": [
        {
          "output_type": "execute_result",
          "data": {
            "text/html": [
              "<div>\n",
              "<style scoped>\n",
              "    .dataframe tbody tr th:only-of-type {\n",
              "        vertical-align: middle;\n",
              "    }\n",
              "\n",
              "    .dataframe tbody tr th {\n",
              "        vertical-align: top;\n",
              "    }\n",
              "\n",
              "    .dataframe thead th {\n",
              "        text-align: right;\n",
              "    }\n",
              "</style>\n",
              "<table border=\"1\" class=\"dataframe\">\n",
              "  <thead>\n",
              "    <tr style=\"text-align: right;\">\n",
              "      <th></th>\n",
              "      <th>account</th>\n",
              "      <th>long_lat</th>\n",
              "      <th>first_name</th>\n",
              "      <th>balance</th>\n",
              "      <th>date</th>\n",
              "      <th>gender</th>\n",
              "      <th>age</th>\n",
              "      <th>amount</th>\n",
              "      <th>customer_id</th>\n",
              "    </tr>\n",
              "  </thead>\n",
              "  <tbody>\n",
              "    <tr>\n",
              "      <th>0</th>\n",
              "      <td>ACC-588564840</td>\n",
              "      <td>151.27 -33.76</td>\n",
              "      <td>Isaiah</td>\n",
              "      <td>8342.11</td>\n",
              "      <td>2018-08-01</td>\n",
              "      <td>M</td>\n",
              "      <td>23</td>\n",
              "      <td>3903.95</td>\n",
              "      <td>CUS-1462656821</td>\n",
              "    </tr>\n",
              "    <tr>\n",
              "      <th>1</th>\n",
              "      <td>ACC-1650504218</td>\n",
              "      <td>145.01 -37.93</td>\n",
              "      <td>Marissa</td>\n",
              "      <td>2040.58</td>\n",
              "      <td>2018-08-01</td>\n",
              "      <td>F</td>\n",
              "      <td>23</td>\n",
              "      <td>1626.48</td>\n",
              "      <td>CUS-2500783281</td>\n",
              "    </tr>\n",
              "    <tr>\n",
              "      <th>2</th>\n",
              "      <td>ACC-3326339947</td>\n",
              "      <td>151.18 -33.80</td>\n",
              "      <td>Eric</td>\n",
              "      <td>3158.51</td>\n",
              "      <td>2018-08-01</td>\n",
              "      <td>M</td>\n",
              "      <td>22</td>\n",
              "      <td>983.36</td>\n",
              "      <td>CUS-326006476</td>\n",
              "    </tr>\n",
              "    <tr>\n",
              "      <th>3</th>\n",
              "      <td>ACC-3541460373</td>\n",
              "      <td>145.00 -37.83</td>\n",
              "      <td>Jeffrey</td>\n",
              "      <td>2517.66</td>\n",
              "      <td>2018-08-01</td>\n",
              "      <td>M</td>\n",
              "      <td>24</td>\n",
              "      <td>1408.08</td>\n",
              "      <td>CUS-1433879684</td>\n",
              "    </tr>\n",
              "    <tr>\n",
              "      <th>4</th>\n",
              "      <td>ACC-2776252858</td>\n",
              "      <td>144.95 -37.76</td>\n",
              "      <td>Kristin</td>\n",
              "      <td>2271.79</td>\n",
              "      <td>2018-08-01</td>\n",
              "      <td>F</td>\n",
              "      <td>43</td>\n",
              "      <td>1068.04</td>\n",
              "      <td>CUS-4123612273</td>\n",
              "    </tr>\n",
              "  </tbody>\n",
              "</table>\n",
              "</div>"
            ],
            "text/plain": [
              "          account       long_lat first_name  ...  age   amount     customer_id\n",
              "0   ACC-588564840  151.27 -33.76     Isaiah  ...   23  3903.95  CUS-1462656821\n",
              "1  ACC-1650504218  145.01 -37.93    Marissa  ...   23  1626.48  CUS-2500783281\n",
              "2  ACC-3326339947  151.18 -33.80       Eric  ...   22   983.36   CUS-326006476\n",
              "3  ACC-3541460373  145.00 -37.83    Jeffrey  ...   24  1408.08  CUS-1433879684\n",
              "4  ACC-2776252858  144.95 -37.76    Kristin  ...   43  1068.04  CUS-4123612273\n",
              "\n",
              "[5 rows x 9 columns]"
            ]
          },
          "metadata": {
            "tags": []
          },
          "execution_count": 49
        }
      ]
    },
    {
      "cell_type": "markdown",
      "metadata": {
        "id": "YZHjajTartJ7",
        "colab_type": "text"
      },
      "source": [
        "\n",
        "Split long_lat column\n"
      ]
    },
    {
      "cell_type": "code",
      "metadata": {
        "id": "km4_B1UHpQdr",
        "colab_type": "code",
        "colab": {}
      },
      "source": [
        "long_lat = salary_txns['long_lat'].str.split(\"-\", n = 1, expand = True)\n",
        "salary_txns['long'] = long_lat[0]\n",
        "salary_txns['lat'] = long_lat[1]\n",
        "salary_txns = salary_txns.drop(['long_lat'], axis = 1)"
      ],
      "execution_count": 50,
      "outputs": []
    },
    {
      "cell_type": "code",
      "metadata": {
        "id": "_ZcVbM-4ru_1",
        "colab_type": "code",
        "colab": {
          "base_uri": "https://localhost:8080/",
          "height": 206
        },
        "outputId": "cd42b487-fa52-42b9-e14e-f2326fc4a3fb"
      },
      "source": [
        "salary_txns.head()"
      ],
      "execution_count": 55,
      "outputs": [
        {
          "output_type": "execute_result",
          "data": {
            "text/html": [
              "<div>\n",
              "<style scoped>\n",
              "    .dataframe tbody tr th:only-of-type {\n",
              "        vertical-align: middle;\n",
              "    }\n",
              "\n",
              "    .dataframe tbody tr th {\n",
              "        vertical-align: top;\n",
              "    }\n",
              "\n",
              "    .dataframe thead th {\n",
              "        text-align: right;\n",
              "    }\n",
              "</style>\n",
              "<table border=\"1\" class=\"dataframe\">\n",
              "  <thead>\n",
              "    <tr style=\"text-align: right;\">\n",
              "      <th></th>\n",
              "      <th>account</th>\n",
              "      <th>first_name</th>\n",
              "      <th>balance</th>\n",
              "      <th>date</th>\n",
              "      <th>gender</th>\n",
              "      <th>age</th>\n",
              "      <th>amount</th>\n",
              "      <th>customer_id</th>\n",
              "      <th>long</th>\n",
              "      <th>lat</th>\n",
              "    </tr>\n",
              "  </thead>\n",
              "  <tbody>\n",
              "    <tr>\n",
              "      <th>0</th>\n",
              "      <td>ACC-588564840</td>\n",
              "      <td>Isaiah</td>\n",
              "      <td>8342.11</td>\n",
              "      <td>2018-08-01</td>\n",
              "      <td>M</td>\n",
              "      <td>23</td>\n",
              "      <td>3903.95</td>\n",
              "      <td>CUS-1462656821</td>\n",
              "      <td>151.27</td>\n",
              "      <td>33.76</td>\n",
              "    </tr>\n",
              "    <tr>\n",
              "      <th>1</th>\n",
              "      <td>ACC-1650504218</td>\n",
              "      <td>Marissa</td>\n",
              "      <td>2040.58</td>\n",
              "      <td>2018-08-01</td>\n",
              "      <td>F</td>\n",
              "      <td>23</td>\n",
              "      <td>1626.48</td>\n",
              "      <td>CUS-2500783281</td>\n",
              "      <td>145.01</td>\n",
              "      <td>37.93</td>\n",
              "    </tr>\n",
              "    <tr>\n",
              "      <th>2</th>\n",
              "      <td>ACC-3326339947</td>\n",
              "      <td>Eric</td>\n",
              "      <td>3158.51</td>\n",
              "      <td>2018-08-01</td>\n",
              "      <td>M</td>\n",
              "      <td>22</td>\n",
              "      <td>983.36</td>\n",
              "      <td>CUS-326006476</td>\n",
              "      <td>151.18</td>\n",
              "      <td>33.80</td>\n",
              "    </tr>\n",
              "    <tr>\n",
              "      <th>3</th>\n",
              "      <td>ACC-3541460373</td>\n",
              "      <td>Jeffrey</td>\n",
              "      <td>2517.66</td>\n",
              "      <td>2018-08-01</td>\n",
              "      <td>M</td>\n",
              "      <td>24</td>\n",
              "      <td>1408.08</td>\n",
              "      <td>CUS-1433879684</td>\n",
              "      <td>145.00</td>\n",
              "      <td>37.83</td>\n",
              "    </tr>\n",
              "    <tr>\n",
              "      <th>4</th>\n",
              "      <td>ACC-2776252858</td>\n",
              "      <td>Kristin</td>\n",
              "      <td>2271.79</td>\n",
              "      <td>2018-08-01</td>\n",
              "      <td>F</td>\n",
              "      <td>43</td>\n",
              "      <td>1068.04</td>\n",
              "      <td>CUS-4123612273</td>\n",
              "      <td>144.95</td>\n",
              "      <td>37.76</td>\n",
              "    </tr>\n",
              "  </tbody>\n",
              "</table>\n",
              "</div>"
            ],
            "text/plain": [
              "          account first_name  balance  ...     customer_id     long    lat\n",
              "0   ACC-588564840     Isaiah  8342.11  ...  CUS-1462656821  151.27   33.76\n",
              "1  ACC-1650504218    Marissa  2040.58  ...  CUS-2500783281  145.01   37.93\n",
              "2  ACC-3326339947       Eric  3158.51  ...   CUS-326006476  151.18   33.80\n",
              "3  ACC-3541460373    Jeffrey  2517.66  ...  CUS-1433879684  145.00   37.83\n",
              "4  ACC-2776252858    Kristin  2271.79  ...  CUS-4123612273  144.95   37.76\n",
              "\n",
              "[5 rows x 10 columns]"
            ]
          },
          "metadata": {
            "tags": []
          },
          "execution_count": 55
        }
      ]
    },
    {
      "cell_type": "code",
      "metadata": {
        "id": "rosNFXNuskDp",
        "colab_type": "code",
        "colab": {
          "base_uri": "https://localhost:8080/",
          "height": 208
        },
        "outputId": "bacdd795-3e60-41a6-b6c4-10f5d40d2c2f"
      },
      "source": [
        "salary_txns.nunique()"
      ],
      "execution_count": 56,
      "outputs": [
        {
          "output_type": "execute_result",
          "data": {
            "text/plain": [
              "account        100\n",
              "first_name      80\n",
              "balance        883\n",
              "date            65\n",
              "gender           2\n",
              "age             33\n",
              "amount         100\n",
              "customer_id    100\n",
              "long            87\n",
              "lat             85\n",
              "dtype: int64"
            ]
          },
          "metadata": {
            "tags": []
          },
          "execution_count": 56
        }
      ]
    },
    {
      "cell_type": "markdown",
      "metadata": {
        "id": "_gvhXZnusmX5",
        "colab_type": "text"
      },
      "source": [
        "\n",
        "Preparing the customer dataframe\n"
      ]
    },
    {
      "cell_type": "code",
      "metadata": {
        "id": "15zOepmYsnoR",
        "colab_type": "code",
        "colab": {
          "base_uri": "https://localhost:8080/",
          "height": 226
        },
        "outputId": "9f931812-ff5c-4fc6-ee0d-a2443554e55d"
      },
      "source": [
        "customers = list(salary_txns['customer_id'].unique())\n",
        "\n",
        "customer_data = []\n",
        "\n",
        "for cust in customers:\n",
        "    salary_txns_subset = salary_txns[salary_txns['customer_id'] == cust]\n",
        "    salary_txns_subset = salary_txns_subset.reset_index(drop=True)\n",
        "    account = salary_txns_subset['account'][0]\n",
        "    first_name = salary_txns_subset['first_name'][0]\n",
        "    gender = salary_txns_subset['gender'][0]\n",
        "    age = salary_txns_subset['age'][0]\n",
        "    long = salary_txns_subset['long'][0]\n",
        "    lat = salary_txns_subset['lat'][0]\n",
        "    avg_balance = round(sum(salary_txns_subset['balance']) / len(salary_txns_subset), 2)\n",
        "    avg_salary = round(sum(salary_txns_subset['amount']) / len(salary_txns_subset), 2)\n",
        "    row = (cust, account, first_name, gender, age, long, lat, avg_balance, avg_salary, round(avg_salary*12,2))\n",
        "    customer_data.append(row)\n",
        "    \n",
        "customer_df = pd.DataFrame(customer_data, columns = ('customer_id',\n",
        "                                                     'account',\n",
        "                                                     'first_name',\n",
        "                                                     'gender',\n",
        "                                                     'age',\n",
        "                                                     'long',\n",
        "                                                     'lat',\n",
        "                                                     'avg_balance',\n",
        "                                                     'avg_salary',\n",
        "                                                     'annual_salary')\n",
        "                          )\n",
        "\n",
        "# change gender to dummy variable\n",
        "customer_df = pd.get_dummies(customer_df, columns = ['gender'], drop_first = True)\n",
        "\n",
        "customer_df.head()\n"
      ],
      "execution_count": 57,
      "outputs": [
        {
          "output_type": "execute_result",
          "data": {
            "text/html": [
              "<div>\n",
              "<style scoped>\n",
              "    .dataframe tbody tr th:only-of-type {\n",
              "        vertical-align: middle;\n",
              "    }\n",
              "\n",
              "    .dataframe tbody tr th {\n",
              "        vertical-align: top;\n",
              "    }\n",
              "\n",
              "    .dataframe thead th {\n",
              "        text-align: right;\n",
              "    }\n",
              "</style>\n",
              "<table border=\"1\" class=\"dataframe\">\n",
              "  <thead>\n",
              "    <tr style=\"text-align: right;\">\n",
              "      <th></th>\n",
              "      <th>customer_id</th>\n",
              "      <th>account</th>\n",
              "      <th>first_name</th>\n",
              "      <th>age</th>\n",
              "      <th>long</th>\n",
              "      <th>lat</th>\n",
              "      <th>avg_balance</th>\n",
              "      <th>avg_salary</th>\n",
              "      <th>annual_salary</th>\n",
              "      <th>gender_M</th>\n",
              "    </tr>\n",
              "  </thead>\n",
              "  <tbody>\n",
              "    <tr>\n",
              "      <th>0</th>\n",
              "      <td>CUS-1462656821</td>\n",
              "      <td>ACC-588564840</td>\n",
              "      <td>Isaiah</td>\n",
              "      <td>23</td>\n",
              "      <td>151.27</td>\n",
              "      <td>33.76</td>\n",
              "      <td>15887.91</td>\n",
              "      <td>3903.95</td>\n",
              "      <td>46847.40</td>\n",
              "      <td>1</td>\n",
              "    </tr>\n",
              "    <tr>\n",
              "      <th>1</th>\n",
              "      <td>CUS-2500783281</td>\n",
              "      <td>ACC-1650504218</td>\n",
              "      <td>Marissa</td>\n",
              "      <td>23</td>\n",
              "      <td>145.01</td>\n",
              "      <td>37.93</td>\n",
              "      <td>10741.09</td>\n",
              "      <td>1626.48</td>\n",
              "      <td>19517.76</td>\n",
              "      <td>0</td>\n",
              "    </tr>\n",
              "    <tr>\n",
              "      <th>2</th>\n",
              "      <td>CUS-326006476</td>\n",
              "      <td>ACC-3326339947</td>\n",
              "      <td>Eric</td>\n",
              "      <td>22</td>\n",
              "      <td>151.18</td>\n",
              "      <td>33.80</td>\n",
              "      <td>8317.03</td>\n",
              "      <td>983.36</td>\n",
              "      <td>11800.32</td>\n",
              "      <td>1</td>\n",
              "    </tr>\n",
              "    <tr>\n",
              "      <th>3</th>\n",
              "      <td>CUS-1433879684</td>\n",
              "      <td>ACC-3541460373</td>\n",
              "      <td>Jeffrey</td>\n",
              "      <td>24</td>\n",
              "      <td>145.00</td>\n",
              "      <td>37.83</td>\n",
              "      <td>3877.38</td>\n",
              "      <td>1408.08</td>\n",
              "      <td>16896.96</td>\n",
              "      <td>1</td>\n",
              "    </tr>\n",
              "    <tr>\n",
              "      <th>4</th>\n",
              "      <td>CUS-4123612273</td>\n",
              "      <td>ACC-2776252858</td>\n",
              "      <td>Kristin</td>\n",
              "      <td>43</td>\n",
              "      <td>144.95</td>\n",
              "      <td>37.76</td>\n",
              "      <td>5210.70</td>\n",
              "      <td>1068.04</td>\n",
              "      <td>12816.48</td>\n",
              "      <td>0</td>\n",
              "    </tr>\n",
              "  </tbody>\n",
              "</table>\n",
              "</div>"
            ],
            "text/plain": [
              "      customer_id         account  ... annual_salary  gender_M\n",
              "0  CUS-1462656821   ACC-588564840  ...      46847.40         1\n",
              "1  CUS-2500783281  ACC-1650504218  ...      19517.76         0\n",
              "2   CUS-326006476  ACC-3326339947  ...      11800.32         1\n",
              "3  CUS-1433879684  ACC-3541460373  ...      16896.96         1\n",
              "4  CUS-4123612273  ACC-2776252858  ...      12816.48         0\n",
              "\n",
              "[5 rows x 10 columns]"
            ]
          },
          "metadata": {
            "tags": []
          },
          "execution_count": 57
        }
      ]
    },
    {
      "cell_type": "markdown",
      "metadata": {
        "id": "xwkpNv9jsuDM",
        "colab_type": "text"
      },
      "source": [
        "\n",
        "Data Visualisation\n"
      ]
    },
    {
      "cell_type": "code",
      "metadata": {
        "id": "Wj2fPwh5sutn",
        "colab_type": "code",
        "colab": {
          "base_uri": "https://localhost:8080/",
          "height": 379
        },
        "outputId": "2d8ac1c1-495c-4fc3-e66b-f033f5ba13a8"
      },
      "source": [
        "sns.set(style=\"whitegrid\")\n",
        "sns.set(rc={'figure.figsize':(10,5)})\n",
        "age_salary_graph = sns.scatterplot(x=\"age\", y=\"annual_salary\", hue = 'gender_M', data=customer_df)\n",
        "age_salary_graph.axes.set_title(\"Scatterplot of Annual Salary against Age\",fontsize=20)\n",
        "age_salary_graph.set_xlabel(\"Age\", fontsize=15)\n",
        "age_salary_graph.set_ylabel(\"Annual Salary\", fontsize=15)"
      ],
      "execution_count": 58,
      "outputs": [
        {
          "output_type": "execute_result",
          "data": {
            "text/plain": [
              "Text(0, 0.5, 'Annual Salary')"
            ]
          },
          "metadata": {
            "tags": []
          },
          "execution_count": 58
        },
        {
          "output_type": "display_data",
          "data": {
            "image/png": "[encoded data removed]",
            "text/plain": [
              "<Figure size 720x360 with 1 Axes>"
            ]
          },
          "metadata": {
            "tags": []
          }
        }
      ]
    },
    {
      "cell_type": "code",
      "metadata": {
        "id": "azvYhxv-syHJ",
        "colab_type": "code",
        "colab": {
          "base_uri": "https://localhost:8080/",
          "height": 379
        },
        "outputId": "ecc2a1f8-4586-4e90-974e-4c4645db1996"
      },
      "source": [
        "sns.set(style=\"whitegrid\")\n",
        "sns.set(rc={'figure.figsize':(10,5)})\n",
        "age_salary_graph = sns.scatterplot(x=\"avg_balance\", y=\"annual_salary\", data=customer_df)\n",
        "age_salary_graph.axes.set_title(\"Scatterplot of Annual Salary against Average Balance\",fontsize=20)\n",
        "age_salary_graph.set_xlabel(\"Average Balance\", fontsize=15)\n",
        "age_salary_graph.set_ylabel(\"Annual Salary\", fontsize=15)"
      ],
      "execution_count": 59,
      "outputs": [
        {
          "output_type": "execute_result",
          "data": {
            "text/plain": [
              "Text(0, 0.5, 'Annual Salary')"
            ]
          },
          "metadata": {
            "tags": []
          },
          "execution_count": 59
        },
        {
          "output_type": "display_data",
          "data": {
            "image/png": "[encoded data removed]",
            "text/plain": [
              "<Figure size 720x360 with 1 Axes>"
            ]
          },
          "metadata": {
            "tags": []
          }
        }
      ]
    },
    {
      "cell_type": "markdown",
      "metadata": {
        "id": "L92XQfgspYd_",
        "colab_type": "text"
      },
      "source": [
        "\n",
        "# Predictive Analytics\n",
        "## Linear Regression"
      ]
    },
    {
      "cell_type": "code",
      "metadata": {
        "id": "YXl8aTZGsxZi",
        "colab_type": "code",
        "colab": {
          "base_uri": "https://localhost:8080/",
          "height": 34
        },
        "outputId": "4528dd4b-d083-47fa-cec4-a4acd9b11843"
      },
      "source": [
        "# Split data\n",
        "train, test = train_test_split(customer_df, test_size=0.2)\n",
        "X = train[['age', 'avg_balance', 'long', 'lat', 'gender_M']]\n",
        "y = train['annual_salary']\n",
        "X_test = test[['age', 'avg_balance', 'long', 'lat', 'gender_M']]\n",
        "y_test = test['annual_salary']\n",
        "\n",
        "# Instantiate model\n",
        "lm = LinearRegression()\n",
        "\n",
        "# Fit model\n",
        "lm.fit(X,y)\n",
        "\n",
        "# Print the R-squared value for the model\n",
        "lm.score(X, y)\n",
        "\n"
      ],
      "execution_count": 60,
      "outputs": [
        {
          "output_type": "execute_result",
          "data": {
            "text/plain": [
              "0.15091429391393918"
            ]
          },
          "metadata": {
            "tags": []
          },
          "execution_count": 60
        }
      ]
    },
    {
      "cell_type": "code",
      "metadata": {
        "id": "f-2TMBfBsrVb",
        "colab_type": "code",
        "colab": {
          "base_uri": "https://localhost:8080/",
          "height": 34
        },
        "outputId": "92e603d4-e21b-4b58-da8d-8593854ed0f5"
      },
      "source": [
        "# Predict\n",
        "y_predict = lm.predict(X_test)\n",
        "\n",
        "# RMSE\n",
        "print(np.sqrt(metrics.mean_squared_error(y_test, y_predict)))\n",
        "\n"
      ],
      "execution_count": 61,
      "outputs": [
        {
          "output_type": "stream",
          "text": [
            "15023.176170165321\n"
          ],
          "name": "stdout"
        }
      ]
    },
    {
      "cell_type": "code",
      "metadata": {
        "id": "Pwl9nlLUquO2",
        "colab_type": "code",
        "colab": {
          "base_uri": "https://localhost:8080/",
          "height": 355
        },
        "outputId": "3d269498-5f74-4b0e-f7b2-d321cd954f37"
      },
      "source": [
        "# Plot of predicted salary against actual salary\n",
        "fig, ax = plt.subplots()\n",
        "ax.scatter(y_test, y_predict, edgecolors=(0, 0, 0))\n",
        "ax.plot([y_test.min(), y_test.max()], [y_test.min(), y_test.max()], 'k--', lw=4)\n",
        "ax.set_xlabel('Actual')\n",
        "ax.set_ylabel('Predicted')\n",
        "ax.set_title(\"Annual Salary vs Predicted\")\n",
        "plt.show()\n",
        "\n"
      ],
      "execution_count": 62,
      "outputs": [
        {
          "output_type": "display_data",
          "data": {
            "image/png": "[encoded data removed]",
            "text/plain": [
              "<Figure size 720x360 with 1 Axes>"
            ]
          },
          "metadata": {
            "tags": []
          }
        }
      ]
    },
    {
      "cell_type": "markdown",
      "metadata": {
        "id": "gRZEin1ntDRS",
        "colab_type": "text"
      },
      "source": [
        "\n",
        "Linear Regression Model Conclusion:\n",
        "\n",
        "    The linear regression model achieved an R-squared value of 0.139. As the R-squared value is closer to 0, it indicates that the model explains very little of the variability of the annual salary.\n",
        "\n",
        "    The model also achieved a Root Mean Squared Error (RMSE) of 15578. It is the square root of the variance of the residuals. Residuals are a measure of how far from the regression line the data points are. In general, the lower the RMSE, the better the model is.\n",
        "\n",
        "Hence, this Linear Regression model has performed very poorly in predicting the average salary of an ANZ customer.\n"
      ]
    },
    {
      "cell_type": "markdown",
      "metadata": {
        "id": "FD1FEHQGppdQ",
        "colab_type": "text"
      },
      "source": [
        "\n",
        "\n",
        "# Decision Trees- Classification and Regression\n"
      ]
    },
    {
      "cell_type": "code",
      "metadata": {
        "id": "VBCAs6E6plaF",
        "colab_type": "code",
        "colab": {
          "base_uri": "https://localhost:8080/",
          "height": 34
        },
        "outputId": "b248322b-024e-4acd-cfb2-2f236adccb85"
      },
      "source": [
        "# Instantiate model\n",
        "model =  DecisionTreeRegressor(max_depth=5,random_state=0)\n",
        "\n",
        "# Fit model\n",
        "model.fit(X,y)\n",
        "\n",
        "# Print the R-squared value for the model\n",
        "model.score(X, y)\n"
      ],
      "execution_count": 64,
      "outputs": [
        {
          "output_type": "execute_result",
          "data": {
            "text/plain": [
              "0.7300050897406382"
            ]
          },
          "metadata": {
            "tags": []
          },
          "execution_count": 64
        }
      ]
    },
    {
      "cell_type": "code",
      "metadata": {
        "id": "0hBxwYYAtOIX",
        "colab_type": "code",
        "colab": {
          "base_uri": "https://localhost:8080/",
          "height": 34
        },
        "outputId": "8cb9164e-796e-461a-aaf4-94b087aa5949"
      },
      "source": [
        "# Predict\n",
        "y_predict_2 = model.predict(X_test)\n",
        "\n",
        "# RMSE\n",
        "print(np.sqrt(metrics.mean_squared_error(y_test, y_predict_2)))"
      ],
      "execution_count": 65,
      "outputs": [
        {
          "output_type": "stream",
          "text": [
            "23319.812782780427\n"
          ],
          "name": "stdout"
        }
      ]
    },
    {
      "cell_type": "code",
      "metadata": {
        "id": "8er14S2apx8y",
        "colab_type": "code",
        "colab": {
          "base_uri": "https://localhost:8080/",
          "height": 355
        },
        "outputId": "21808ce2-5dab-43db-f787-e171f911e928"
      },
      "source": [
        "# Plot of predicted salary against actual salary\n",
        "fig, ax = plt.subplots()\n",
        "ax.scatter(y_test, y_predict_2, edgecolors=(0, 0, 0))\n",
        "ax.plot([y_test.min(), y_test.max()], [y_test.min(), y_test.max()], 'k--', lw=4)\n",
        "ax.set_xlabel('Actual')\n",
        "ax.set_ylabel('Predicted')\n",
        "ax.set_title(\"Annual Salary vs Predicted\")\n",
        "plt.show()"
      ],
      "execution_count": 66,
      "outputs": [
        {
          "output_type": "display_data",
          "data": {
            "image/png": "[encoded data removed]",
            "text/plain": [
              "<Figure size 720x360 with 1 Axes>"
            ]
          },
          "metadata": {
            "tags": []
          }
        }
      ]
    },
    {
      "cell_type": "markdown",
      "metadata": {
        "id": "DGZcrPoVtXhO",
        "colab_type": "text"
      },
      "source": [
        "\n",
        "Decision Tree Model Conclusion:\n",
        "\n",
        "    The Decision Tree model achieved an R-squared value of 0.847. As the R-squared value is closer to 1, it indicates that the model is able to explain of the variability of the annual salary.\n",
        "\n",
        "    On the other hand, the model achieved a Root Mean Squared Error (RMSE) of 19371. This is much higher than that of the linear regression model.\n",
        "\n",
        "Hence, although the Decision Tree model has performed better than the Linear Regression model in terms of its R-square value, it has a higher RMSE. This means that the absolute fit of the model is much worse. Hence, I do not recommend using either models to segment the customers without improving the model. Some room for improvement include adding more relevant variables or using a different type of machine learning model.\n"
      ]
    },
    {
      "cell_type": "code",
      "metadata": {
        "id": "fPZe9nPdtYsJ",
        "colab_type": "code",
        "colab": {}
      },
      "source": [
        ""
      ],
      "execution_count": null,
      "outputs": []
    }
  ]
}