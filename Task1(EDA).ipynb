{
  "nbformat": 4,
  "nbformat_minor": 0,
  "metadata": {
    "colab": {
      "name": "Task1(EDA).ipynb",
      "provenance": [],
      "authorship_tag": "ABX9TyPtX+iJXjYTDQXtS65It6bC",
      "include_colab_link": true
    },
    "kernelspec": {
      "name": "python3",
      "display_name": "Python 3"
    }
  },
  "cells": [
    {
      "cell_type": "markdown",
      "metadata": {
        "id": "view-in-github",
        "colab_type": "text"
      },
      "source": [
        "<a href=\"https://colab.research.google.com/github/bibekuchiha/-ANZ-Data-ANZ-Program/blob/master/Task1(EDA).ipynb\" target=\"_parent\"><img src=\"https://colab.research.google.com/assets/colab-badge.svg\" alt=\"Open In Colab\"/></a>"
      ]
    },
    {
      "cell_type": "code",
      "metadata": {
        "id": "214kpW3ZjtMH",
        "colab_type": "code",
        "colab": {}
      },
      "source": [
        "import numpy as np\n",
        "import matplotlib.pyplot as plt\n",
        "import pandas as pd\n"
      ],
      "execution_count": 1,
      "outputs": []
    },
    {
      "cell_type": "code",
      "metadata": {
        "id": "CIQoZH5Kj6ec",
        "colab_type": "code",
        "colab": {
          "base_uri": "https://localhost:8080/",
          "height": 330
        },
        "outputId": "51127357-e93e-45c1-fe18-ca987124e959"
      },
      "source": [
        "df = pd.read_excel(\"ANZ synthesised transaction dataset.xlsx\")\n",
        "df.head()"
      ],
      "execution_count": 2,
      "outputs": [
        {
          "output_type": "execute_result",
          "data": {
            "text/html": [
              "<div>\n",
              "<style scoped>\n",
              "    .dataframe tbody tr th:only-of-type {\n",
              "        vertical-align: middle;\n",
              "    }\n",
              "\n",
              "    .dataframe tbody tr th {\n",
              "        vertical-align: top;\n",
              "    }\n",
              "\n",
              "    .dataframe thead th {\n",
              "        text-align: right;\n",
              "    }\n",
              "</style>\n",
              "<table border=\"1\" class=\"dataframe\">\n",
              "  <thead>\n",
              "    <tr style=\"text-align: right;\">\n",
              "      <th></th>\n",
              "      <th>status</th>\n",
              "      <th>card_present_flag</th>\n",
              "      <th>bpay_biller_code</th>\n",
              "      <th>account</th>\n",
              "      <th>currency</th>\n",
              "      <th>long_lat</th>\n",
              "      <th>txn_description</th>\n",
              "      <th>merchant_id</th>\n",
              "      <th>merchant_code</th>\n",
              "      <th>first_name</th>\n",
              "      <th>balance</th>\n",
              "      <th>date</th>\n",
              "      <th>gender</th>\n",
              "      <th>age</th>\n",
              "      <th>merchant_suburb</th>\n",
              "      <th>merchant_state</th>\n",
              "      <th>extraction</th>\n",
              "      <th>amount</th>\n",
              "      <th>transaction_id</th>\n",
              "      <th>country</th>\n",
              "      <th>customer_id</th>\n",
              "      <th>merchant_long_lat</th>\n",
              "      <th>movement</th>\n",
              "    </tr>\n",
              "  </thead>\n",
              "  <tbody>\n",
              "    <tr>\n",
              "      <th>0</th>\n",
              "      <td>authorized</td>\n",
              "      <td>1.0</td>\n",
              "      <td>NaN</td>\n",
              "      <td>ACC-1598451071</td>\n",
              "      <td>AUD</td>\n",
              "      <td>153.41 -27.95</td>\n",
              "      <td>POS</td>\n",
              "      <td>81c48296-73be-44a7-befa-d053f48ce7cd</td>\n",
              "      <td>NaN</td>\n",
              "      <td>Diana</td>\n",
              "      <td>35.39</td>\n",
              "      <td>2018-08-01</td>\n",
              "      <td>F</td>\n",
              "      <td>26</td>\n",
              "      <td>Ashmore</td>\n",
              "      <td>QLD</td>\n",
              "      <td>2018-08-01T01:01:15.000+0000</td>\n",
              "      <td>16.25</td>\n",
              "      <td>a623070bfead4541a6b0fff8a09e706c</td>\n",
              "      <td>Australia</td>\n",
              "      <td>CUS-2487424745</td>\n",
              "      <td>153.38 -27.99</td>\n",
              "      <td>debit</td>\n",
              "    </tr>\n",
              "    <tr>\n",
              "      <th>1</th>\n",
              "      <td>authorized</td>\n",
              "      <td>0.0</td>\n",
              "      <td>NaN</td>\n",
              "      <td>ACC-1598451071</td>\n",
              "      <td>AUD</td>\n",
              "      <td>153.41 -27.95</td>\n",
              "      <td>SALES-POS</td>\n",
              "      <td>830a451c-316e-4a6a-bf25-e37caedca49e</td>\n",
              "      <td>NaN</td>\n",
              "      <td>Diana</td>\n",
              "      <td>21.20</td>\n",
              "      <td>2018-08-01</td>\n",
              "      <td>F</td>\n",
              "      <td>26</td>\n",
              "      <td>Sydney</td>\n",
              "      <td>NSW</td>\n",
              "      <td>2018-08-01T01:13:45.000+0000</td>\n",
              "      <td>14.19</td>\n",
              "      <td>13270a2a902145da9db4c951e04b51b9</td>\n",
              "      <td>Australia</td>\n",
              "      <td>CUS-2487424745</td>\n",
              "      <td>151.21 -33.87</td>\n",
              "      <td>debit</td>\n",
              "    </tr>\n",
              "    <tr>\n",
              "      <th>2</th>\n",
              "      <td>authorized</td>\n",
              "      <td>1.0</td>\n",
              "      <td>NaN</td>\n",
              "      <td>ACC-1222300524</td>\n",
              "      <td>AUD</td>\n",
              "      <td>151.23 -33.94</td>\n",
              "      <td>POS</td>\n",
              "      <td>835c231d-8cdf-4e96-859d-e9d571760cf0</td>\n",
              "      <td>NaN</td>\n",
              "      <td>Michael</td>\n",
              "      <td>5.71</td>\n",
              "      <td>2018-08-01</td>\n",
              "      <td>M</td>\n",
              "      <td>38</td>\n",
              "      <td>Sydney</td>\n",
              "      <td>NSW</td>\n",
              "      <td>2018-08-01T01:26:15.000+0000</td>\n",
              "      <td>6.42</td>\n",
              "      <td>feb79e7ecd7048a5a36ec889d1a94270</td>\n",
              "      <td>Australia</td>\n",
              "      <td>CUS-2142601169</td>\n",
              "      <td>151.21 -33.87</td>\n",
              "      <td>debit</td>\n",
              "    </tr>\n",
              "    <tr>\n",
              "      <th>3</th>\n",
              "      <td>authorized</td>\n",
              "      <td>1.0</td>\n",
              "      <td>NaN</td>\n",
              "      <td>ACC-1037050564</td>\n",
              "      <td>AUD</td>\n",
              "      <td>153.10 -27.66</td>\n",
              "      <td>SALES-POS</td>\n",
              "      <td>48514682-c78a-4a88-b0da-2d6302e64673</td>\n",
              "      <td>NaN</td>\n",
              "      <td>Rhonda</td>\n",
              "      <td>2117.22</td>\n",
              "      <td>2018-08-01</td>\n",
              "      <td>F</td>\n",
              "      <td>40</td>\n",
              "      <td>Buderim</td>\n",
              "      <td>QLD</td>\n",
              "      <td>2018-08-01T01:38:45.000+0000</td>\n",
              "      <td>40.90</td>\n",
              "      <td>2698170da3704fd981b15e64a006079e</td>\n",
              "      <td>Australia</td>\n",
              "      <td>CUS-1614226872</td>\n",
              "      <td>153.05 -26.68</td>\n",
              "      <td>debit</td>\n",
              "    </tr>\n",
              "    <tr>\n",
              "      <th>4</th>\n",
              "      <td>authorized</td>\n",
              "      <td>1.0</td>\n",
              "      <td>NaN</td>\n",
              "      <td>ACC-1598451071</td>\n",
              "      <td>AUD</td>\n",
              "      <td>153.41 -27.95</td>\n",
              "      <td>SALES-POS</td>\n",
              "      <td>b4e02c10-0852-4273-b8fd-7b3395e32eb0</td>\n",
              "      <td>NaN</td>\n",
              "      <td>Diana</td>\n",
              "      <td>17.95</td>\n",
              "      <td>2018-08-01</td>\n",
              "      <td>F</td>\n",
              "      <td>26</td>\n",
              "      <td>Mermaid Beach</td>\n",
              "      <td>QLD</td>\n",
              "      <td>2018-08-01T01:51:15.000+0000</td>\n",
              "      <td>3.25</td>\n",
              "      <td>329adf79878c4cf0aeb4188b4691c266</td>\n",
              "      <td>Australia</td>\n",
              "      <td>CUS-2487424745</td>\n",
              "      <td>153.44 -28.06</td>\n",
              "      <td>debit</td>\n",
              "    </tr>\n",
              "  </tbody>\n",
              "</table>\n",
              "</div>"
            ],
            "text/plain": [
              "       status  card_present_flag  ... merchant_long_lat movement\n",
              "0  authorized                1.0  ...     153.38 -27.99    debit\n",
              "1  authorized                0.0  ...     151.21 -33.87    debit\n",
              "2  authorized                1.0  ...     151.21 -33.87    debit\n",
              "3  authorized                1.0  ...     153.05 -26.68    debit\n",
              "4  authorized                1.0  ...     153.44 -28.06    debit\n",
              "\n",
              "[5 rows x 23 columns]"
            ]
          },
          "metadata": {
            "tags": []
          },
          "execution_count": 2
        }
      ]
    },
    {
      "cell_type": "code",
      "metadata": {
        "id": "y-pbnlPJj9eu",
        "colab_type": "code",
        "colab": {
          "base_uri": "https://localhost:8080/",
          "height": 538
        },
        "outputId": "cc86da75-9318-4d67-c418-28ae39eefcf0"
      },
      "source": [
        "df.info()"
      ],
      "execution_count": 3,
      "outputs": [
        {
          "output_type": "stream",
          "text": [
            "<class 'pandas.core.frame.DataFrame'>\n",
            "RangeIndex: 12043 entries, 0 to 12042\n",
            "Data columns (total 23 columns):\n",
            " #   Column             Non-Null Count  Dtype         \n",
            "---  ------             --------------  -----         \n",
            " 0   status             12043 non-null  object        \n",
            " 1   card_present_flag  7717 non-null   float64       \n",
            " 2   bpay_biller_code   885 non-null    object        \n",
            " 3   account            12043 non-null  object        \n",
            " 4   currency           12043 non-null  object        \n",
            " 5   long_lat           12043 non-null  object        \n",
            " 6   txn_description    12043 non-null  object        \n",
            " 7   merchant_id        7717 non-null   object        \n",
            " 8   merchant_code      883 non-null    float64       \n",
            " 9   first_name         12043 non-null  object        \n",
            " 10  balance            12043 non-null  float64       \n",
            " 11  date               12043 non-null  datetime64[ns]\n",
            " 12  gender             12043 non-null  object        \n",
            " 13  age                12043 non-null  int64         \n",
            " 14  merchant_suburb    7717 non-null   object        \n",
            " 15  merchant_state     7717 non-null   object        \n",
            " 16  extraction         12043 non-null  object        \n",
            " 17  amount             12043 non-null  float64       \n",
            " 18  transaction_id     12043 non-null  object        \n",
            " 19  country            12043 non-null  object        \n",
            " 20  customer_id        12043 non-null  object        \n",
            " 21  merchant_long_lat  7717 non-null   object        \n",
            " 22  movement           12043 non-null  object        \n",
            "dtypes: datetime64[ns](1), float64(4), int64(1), object(17)\n",
            "memory usage: 2.1+ MB\n"
          ],
          "name": "stdout"
        }
      ]
    },
    {
      "cell_type": "code",
      "metadata": {
        "id": "xoeYui8rkIjF",
        "colab_type": "code",
        "colab": {
          "base_uri": "https://localhost:8080/",
          "height": 34
        },
        "outputId": "5ba26c88-54d3-45d2-8e7e-e2e0ec9899ca"
      },
      "source": [
        "df.shape"
      ],
      "execution_count": 5,
      "outputs": [
        {
          "output_type": "execute_result",
          "data": {
            "text/plain": [
              "(12043, 23)"
            ]
          },
          "metadata": {
            "tags": []
          },
          "execution_count": 5
        }
      ]
    },
    {
      "cell_type": "code",
      "metadata": {
        "id": "Lw5RnxiKkN0u",
        "colab_type": "code",
        "colab": {
          "base_uri": "https://localhost:8080/",
          "height": 139
        },
        "outputId": "2c9004b0-0d57-4321-f4d9-95df32f67fda"
      },
      "source": [
        "df.columns"
      ],
      "execution_count": 6,
      "outputs": [
        {
          "output_type": "execute_result",
          "data": {
            "text/plain": [
              "Index(['status', 'card_present_flag', 'bpay_biller_code', 'account',\n",
              "       'currency', 'long_lat', 'txn_description', 'merchant_id',\n",
              "       'merchant_code', 'first_name', 'balance', 'date', 'gender', 'age',\n",
              "       'merchant_suburb', 'merchant_state', 'extraction', 'amount',\n",
              "       'transaction_id', 'country', 'customer_id', 'merchant_long_lat',\n",
              "       'movement'],\n",
              "      dtype='object')"
            ]
          },
          "metadata": {
            "tags": []
          },
          "execution_count": 6
        }
      ]
    },
    {
      "cell_type": "markdown",
      "metadata": {
        "id": "YJGVDiMvk2Wv",
        "colab_type": "text"
      },
      "source": [
        "\n",
        "Confirming 100 unique customers exist in dataset\n"
      ]
    },
    {
      "cell_type": "code",
      "metadata": {
        "id": "ez6e98KgkQuH",
        "colab_type": "code",
        "colab": {
          "base_uri": "https://localhost:8080/",
          "height": 34
        },
        "outputId": "c4d966cc-9ae5-4700-eedc-bcbef59ff503"
      },
      "source": [
        "df[\"account\"].nunique()"
      ],
      "execution_count": 7,
      "outputs": [
        {
          "output_type": "execute_result",
          "data": {
            "text/plain": [
              "100"
            ]
          },
          "metadata": {
            "tags": []
          },
          "execution_count": 7
        }
      ]
    },
    {
      "cell_type": "markdown",
      "metadata": {
        "id": "pg93L2mck7i_",
        "colab_type": "text"
      },
      "source": [
        "\n",
        "Dropping irrelevant features from dataset\n"
      ]
    },
    {
      "cell_type": "code",
      "metadata": {
        "id": "y8sD602lk45C",
        "colab_type": "code",
        "colab": {
          "base_uri": "https://localhost:8080/",
          "height": 226
        },
        "outputId": "ce288cf7-a24e-49e3-aebd-897620a11665"
      },
      "source": [
        "df = df[[\"status\",\"card_present_flag\",\"balance\",\"date\",\n",
        "          \"gender\",\"age\",\"merchant_suburb\",\"merchant_state\",\n",
        "          \"amount\",\"customer_id\",\"movement\"]]\n",
        "df[\"date\"] = pd.to_datetime(df[\"date\"])\n",
        "df.head()"
      ],
      "execution_count": 8,
      "outputs": [
        {
          "output_type": "execute_result",
          "data": {
            "text/html": [
              "<div>\n",
              "<style scoped>\n",
              "    .dataframe tbody tr th:only-of-type {\n",
              "        vertical-align: middle;\n",
              "    }\n",
              "\n",
              "    .dataframe tbody tr th {\n",
              "        vertical-align: top;\n",
              "    }\n",
              "\n",
              "    .dataframe thead th {\n",
              "        text-align: right;\n",
              "    }\n",
              "</style>\n",
              "<table border=\"1\" class=\"dataframe\">\n",
              "  <thead>\n",
              "    <tr style=\"text-align: right;\">\n",
              "      <th></th>\n",
              "      <th>status</th>\n",
              "      <th>card_present_flag</th>\n",
              "      <th>balance</th>\n",
              "      <th>date</th>\n",
              "      <th>gender</th>\n",
              "      <th>age</th>\n",
              "      <th>merchant_suburb</th>\n",
              "      <th>merchant_state</th>\n",
              "      <th>amount</th>\n",
              "      <th>customer_id</th>\n",
              "      <th>movement</th>\n",
              "    </tr>\n",
              "  </thead>\n",
              "  <tbody>\n",
              "    <tr>\n",
              "      <th>0</th>\n",
              "      <td>authorized</td>\n",
              "      <td>1.0</td>\n",
              "      <td>35.39</td>\n",
              "      <td>2018-08-01</td>\n",
              "      <td>F</td>\n",
              "      <td>26</td>\n",
              "      <td>Ashmore</td>\n",
              "      <td>QLD</td>\n",
              "      <td>16.25</td>\n",
              "      <td>CUS-2487424745</td>\n",
              "      <td>debit</td>\n",
              "    </tr>\n",
              "    <tr>\n",
              "      <th>1</th>\n",
              "      <td>authorized</td>\n",
              "      <td>0.0</td>\n",
              "      <td>21.20</td>\n",
              "      <td>2018-08-01</td>\n",
              "      <td>F</td>\n",
              "      <td>26</td>\n",
              "      <td>Sydney</td>\n",
              "      <td>NSW</td>\n",
              "      <td>14.19</td>\n",
              "      <td>CUS-2487424745</td>\n",
              "      <td>debit</td>\n",
              "    </tr>\n",
              "    <tr>\n",
              "      <th>2</th>\n",
              "      <td>authorized</td>\n",
              "      <td>1.0</td>\n",
              "      <td>5.71</td>\n",
              "      <td>2018-08-01</td>\n",
              "      <td>M</td>\n",
              "      <td>38</td>\n",
              "      <td>Sydney</td>\n",
              "      <td>NSW</td>\n",
              "      <td>6.42</td>\n",
              "      <td>CUS-2142601169</td>\n",
              "      <td>debit</td>\n",
              "    </tr>\n",
              "    <tr>\n",
              "      <th>3</th>\n",
              "      <td>authorized</td>\n",
              "      <td>1.0</td>\n",
              "      <td>2117.22</td>\n",
              "      <td>2018-08-01</td>\n",
              "      <td>F</td>\n",
              "      <td>40</td>\n",
              "      <td>Buderim</td>\n",
              "      <td>QLD</td>\n",
              "      <td>40.90</td>\n",
              "      <td>CUS-1614226872</td>\n",
              "      <td>debit</td>\n",
              "    </tr>\n",
              "    <tr>\n",
              "      <th>4</th>\n",
              "      <td>authorized</td>\n",
              "      <td>1.0</td>\n",
              "      <td>17.95</td>\n",
              "      <td>2018-08-01</td>\n",
              "      <td>F</td>\n",
              "      <td>26</td>\n",
              "      <td>Mermaid Beach</td>\n",
              "      <td>QLD</td>\n",
              "      <td>3.25</td>\n",
              "      <td>CUS-2487424745</td>\n",
              "      <td>debit</td>\n",
              "    </tr>\n",
              "  </tbody>\n",
              "</table>\n",
              "</div>"
            ],
            "text/plain": [
              "       status  card_present_flag  balance  ... amount     customer_id  movement\n",
              "0  authorized                1.0    35.39  ...  16.25  CUS-2487424745     debit\n",
              "1  authorized                0.0    21.20  ...  14.19  CUS-2487424745     debit\n",
              "2  authorized                1.0     5.71  ...   6.42  CUS-2142601169     debit\n",
              "3  authorized                1.0  2117.22  ...  40.90  CUS-1614226872     debit\n",
              "4  authorized                1.0    17.95  ...   3.25  CUS-2487424745     debit\n",
              "\n",
              "[5 rows x 11 columns]"
            ]
          },
          "metadata": {
            "tags": []
          },
          "execution_count": 8
        }
      ]
    },
    {
      "cell_type": "code",
      "metadata": {
        "id": "S7MQoI8LlLgg",
        "colab_type": "code",
        "colab": {
          "base_uri": "https://localhost:8080/",
          "height": 34
        },
        "outputId": "27563a97-7be5-4885-a6a2-282145109d7c"
      },
      "source": [
        "df.shape"
      ],
      "execution_count": 9,
      "outputs": [
        {
          "output_type": "execute_result",
          "data": {
            "text/plain": [
              "(12043, 11)"
            ]
          },
          "metadata": {
            "tags": []
          },
          "execution_count": 9
        }
      ]
    },
    {
      "cell_type": "markdown",
      "metadata": {
        "id": "4rujKuUclSUX",
        "colab_type": "text"
      },
      "source": [
        "\n",
        "# Exploratory Data Analysis\n",
        "Total number of transactions made on each day\n"
      ]
    },
    {
      "cell_type": "code",
      "metadata": {
        "id": "ZLrG5_N6lUaF",
        "colab_type": "code",
        "colab": {
          "base_uri": "https://localhost:8080/",
          "height": 225
        },
        "outputId": "d03c4075-6bd0-407e-aa70-a98feb1a6cfe"
      },
      "source": [
        "df[\"date\"].value_counts()"
      ],
      "execution_count": 10,
      "outputs": [
        {
          "output_type": "execute_result",
          "data": {
            "text/plain": [
              "2018-09-28    174\n",
              "2018-08-17    172\n",
              "2018-10-05    168\n",
              "2018-10-17    162\n",
              "2018-09-14    161\n",
              "             ... \n",
              "2018-08-06     99\n",
              "2018-08-20     97\n",
              "2018-10-23     96\n",
              "2018-10-08     95\n",
              "2018-10-30     89\n",
              "Name: date, Length: 91, dtype: int64"
            ]
          },
          "metadata": {
            "tags": []
          },
          "execution_count": 10
        }
      ]
    },
    {
      "cell_type": "markdown",
      "metadata": {
        "id": "AvmJb979lZzd",
        "colab_type": "text"
      },
      "source": [
        "\n",
        "Total number of transactions made by each customer\n",
        "\n"
      ]
    },
    {
      "cell_type": "code",
      "metadata": {
        "id": "kcCta7eHlatX",
        "colab_type": "code",
        "colab": {
          "base_uri": "https://localhost:8080/",
          "height": 225
        },
        "outputId": "92fe1c1a-b998-4999-caa0-ed13042a363d"
      },
      "source": [
        "df[\"customer_id\"].value_counts()"
      ],
      "execution_count": 11,
      "outputs": [
        {
          "output_type": "execute_result",
          "data": {
            "text/plain": [
              "CUS-2487424745    578\n",
              "CUS-2142601169    303\n",
              "CUS-3026014945    292\n",
              "CUS-3378712515    260\n",
              "CUS-1614226872    259\n",
              "                 ... \n",
              "CUS-3395687666     40\n",
              "CUS-3201519139     37\n",
              "CUS-1646183815     34\n",
              "CUS-495599312      31\n",
              "CUS-1739931018     25\n",
              "Name: customer_id, Length: 100, dtype: int64"
            ]
          },
          "metadata": {
            "tags": []
          },
          "execution_count": 11
        }
      ]
    },
    {
      "cell_type": "code",
      "metadata": {
        "id": "K2n2WnVvlgLM",
        "colab_type": "code",
        "colab": {}
      },
      "source": [
        "\n",
        "Transaction volume each day¶\n"
      ],
      "execution_count": null,
      "outputs": []
    },
    {
      "cell_type": "code",
      "metadata": {
        "id": "Cg_k7-Ehljhz",
        "colab_type": "code",
        "colab": {}
      },
      "source": [
        "df_date_count = df.groupby(\"date\").count()\n",
        "trans_vol = df_date_count[\"customer_id\"].mean()\n",
        "n_points = len(df_date_count.index)"
      ],
      "execution_count": 12,
      "outputs": []
    },
    {
      "cell_type": "code",
      "metadata": {
        "id": "DnfenhaIlrIt",
        "colab_type": "code",
        "colab": {
          "base_uri": "https://localhost:8080/",
          "height": 297
        },
        "outputId": "d3075126-c711-4c43-a0da-74b9200a2243"
      },
      "source": [
        "plt.figure()\n",
        "plt.plot(df_date_count.index, df_date_count[\"customer_id\"], c=\"black\", label = \"Customer ID\")\n",
        "plt.plot(df_date_count.index, np.linspace(trans_vol,trans_vol,n_points), c=\"r\", label = \"Mean transaction volume\")\n",
        "plt.title(\"ANZ Transaction Volume vs. Date\")\n",
        "plt.xlabel(\"Date\")\n",
        "plt.ylabel(\"Number of customers\")\n",
        "plt.legend()\n",
        "plt.tight_layout()\n",
        "\n"
      ],
      "execution_count": 13,
      "outputs": [
        {
          "output_type": "display_data",
          "data": {
            "image/png": "[encoded data removed]",
            "text/plain": [
              "<Figure size 432x288 with 1 Axes>"
            ]
          },
          "metadata": {
            "tags": [],
            "needs_background": "light"
          }
        }
      ]
    },
    {
      "cell_type": "code",
      "metadata": {
        "id": "tpoY0AR8lt5f",
        "colab_type": "code",
        "colab": {
          "base_uri": "https://localhost:8080/",
          "height": 121
        },
        "outputId": "dbe5df55-4d7d-4f99-9188-aedaab7354e4"
      },
      "source": [
        "months = []\n",
        "for date in df[\"date\"]:\n",
        "    if date.month == 8:\n",
        "        months.append(\"August\")\n",
        "    elif date.month == 9:\n",
        "        months.append(\"September\")\n",
        "    elif date.month == 10:\n",
        "        months.append(\"October\")\n",
        "\n",
        "df[\"Months\"] = months\n",
        "df[\"Months\"].head()\n",
        "\n"
      ],
      "execution_count": 14,
      "outputs": [
        {
          "output_type": "execute_result",
          "data": {
            "text/plain": [
              "0    August\n",
              "1    August\n",
              "2    August\n",
              "3    August\n",
              "4    August\n",
              "Name: Months, dtype: object"
            ]
          },
          "metadata": {
            "tags": []
          },
          "execution_count": 14
        }
      ]
    },
    {
      "cell_type": "markdown",
      "metadata": {
        "id": "aIMDdmtmmBvO",
        "colab_type": "text"
      },
      "source": [
        "\n",
        "Mean customer balance and payment amount by age\n",
        "\n"
      ]
    },
    {
      "cell_type": "code",
      "metadata": {
        "id": "wLHSND7Vl4aa",
        "colab_type": "code",
        "colab": {}
      },
      "source": [
        "df_cus_aug = df[df[\"Months\"] == \"August\"].groupby(\"customer_id\").mean()\n",
        "df_gen_aug = df[df[\"Months\"] == \"August\"].groupby(\"gender\").mean()"
      ],
      "execution_count": 15,
      "outputs": []
    },
    {
      "cell_type": "code",
      "metadata": {
        "id": "gskyzd12mHkt",
        "colab_type": "code",
        "colab": {}
      },
      "source": [
        "mean_f_bal_aug = df_gen_aug[\"balance\"].iloc[0]\n",
        "mean_m_bal_aug = df_gen_aug[\"balance\"].iloc[1]\n",
        "n_points = len(df_cus_aug[\"age\"])"
      ],
      "execution_count": 16,
      "outputs": []
    },
    {
      "cell_type": "code",
      "metadata": {
        "id": "sRHj5jXOmKkJ",
        "colab_type": "code",
        "colab": {
          "base_uri": "https://localhost:8080/",
          "height": 297
        },
        "outputId": "fd4002bd-cf3b-431b-acf1-abae6e944833"
      },
      "source": [
        "plt.figure()\n",
        "plt.scatter(df_cus_aug[\"age\"], df_cus_aug[\"balance\"], c=\"black\", label=\"Balance\")\n",
        "plt.plot(df_cus_aug[\"age\"], np.linspace(mean_f_bal_aug,mean_f_bal_aug,n_points), c=\"r\", label = \"Mean female balance\")\n",
        "plt.plot(df_cus_aug[\"age\"], np.linspace(mean_m_bal_aug,mean_m_bal_aug,n_points), c=\"b\", label = \"Mean male balance\")\n",
        "plt.title(\"ANZ Customer Balance vs. Age for August\")\n",
        "plt.xlabel(\"Age (years)\")\n",
        "plt.ylabel(\"Balance ($)\")\n",
        "plt.legend()\n",
        "plt.tight_layout()"
      ],
      "execution_count": 17,
      "outputs": [
        {
          "output_type": "display_data",
          "data": {
            "image/png": "[encoded data removed]",
            "text/plain": [
              "<Figure size 432x288 with 1 Axes>"
            ]
          },
          "metadata": {
            "tags": [],
            "needs_background": "light"
          }
        }
      ]
    },
    {
      "cell_type": "code",
      "metadata": {
        "id": "I9YnIpv9mMwU",
        "colab_type": "code",
        "colab": {}
      },
      "source": [
        "mean_f_amt_aug = df_gen_aug[\"amount\"].iloc[0]\n",
        "mean_m_amt_aug = df_gen_aug[\"amount\"].iloc[1]"
      ],
      "execution_count": 18,
      "outputs": []
    },
    {
      "cell_type": "code",
      "metadata": {
        "id": "gX9eWyqjmQVg",
        "colab_type": "code",
        "colab": {
          "base_uri": "https://localhost:8080/",
          "height": 297
        },
        "outputId": "64a0c3f8-78e6-41dc-a1c9-84fd69e5f31f"
      },
      "source": [
        "plt.scatter(df_cus_aug[\"age\"], df_cus_aug[\"amount\"], c=\"black\", label=\"Amount\")\n",
        "plt.plot(df_cus_aug[\"age\"], np.linspace(mean_f_amt_aug,mean_f_amt_aug,n_points), c=\"r\", label = \"Mean female amount\")\n",
        "plt.plot(df_cus_aug[\"age\"], np.linspace(mean_m_amt_aug,mean_m_amt_aug,n_points), c=\"b\", label = \"Mean male amount\")\n",
        "plt.title(\"ANZ Customer Mean Payment Amount vs. Age for August\")\n",
        "plt.xlabel(\"Age (years)\")\n",
        "plt.ylabel(\"Amount ($)\")\n",
        "plt.legend()\n",
        "plt.tight_layout()\n"
      ],
      "execution_count": 19,
      "outputs": [
        {
          "output_type": "display_data",
          "data": {
            "image/png": "[encoded data removed]",
            "text/plain": [
              "<Figure size 432x288 with 1 Axes>"
            ]
          },
          "metadata": {
            "tags": [],
            "needs_background": "light"
          }
        }
      ]
    },
    {
      "cell_type": "code",
      "metadata": {
        "id": "tm0dVcmGmSW7",
        "colab_type": "code",
        "colab": {
          "base_uri": "https://localhost:8080/",
          "height": 297
        },
        "outputId": "0e9f1626-32d5-411c-d425-542b206a9876"
      },
      "source": [
        "df_cus_sep = df[df[\"Months\"] == \"September\"].groupby(\"customer_id\").mean()\n",
        "df_gen_sep = df[df[\"Months\"] == \"September\"].groupby(\"gender\").mean()\n",
        "\n",
        "mean_f_bal_sep = df_gen_sep[\"balance\"].iloc[0]\n",
        "mean_m_bal_sep = df_gen_sep[\"balance\"].iloc[1]\n",
        "n_points = len(df_cus_sep[\"age\"])\n",
        "\n",
        "plt.figure()\n",
        "plt.scatter(df_cus_sep[\"age\"], df_cus_sep[\"balance\"], c=\"black\", label=\"Balance\")\n",
        "plt.plot(df_cus_sep[\"age\"], np.linspace(mean_f_bal_sep,mean_f_bal_sep,n_points), c=\"r\", label = \"Mean female balance\")\n",
        "plt.plot(df_cus_sep[\"age\"], np.linspace(mean_m_bal_sep,mean_m_bal_sep,n_points), c=\"b\", label = \"Mean male balance\")\n",
        "plt.title(\"ANZ Customer Balance vs. Age for September\")\n",
        "plt.xlabel(\"Age (years)\")\n",
        "plt.ylabel(\"Balance ($)\")\n",
        "plt.legend()\n",
        "plt.tight_layout()\n",
        "\n"
      ],
      "execution_count": 20,
      "outputs": [
        {
          "output_type": "display_data",
          "data": {
            "image/png": "[encoded data removed]",
            "text/plain": [
              "<Figure size 432x288 with 1 Axes>"
            ]
          },
          "metadata": {
            "tags": [],
            "needs_background": "light"
          }
        }
      ]
    },
    {
      "cell_type": "code",
      "metadata": {
        "id": "rXt0nfpEmsy8",
        "colab_type": "code",
        "colab": {
          "base_uri": "https://localhost:8080/",
          "height": 297
        },
        "outputId": "5fb0084f-3b2e-4fd5-df9f-4163eb4e805b"
      },
      "source": [
        "df_cus_oct = df[df[\"Months\"] == \"October\"].groupby(\"customer_id\").mean()\n",
        "df_gen_oct = df[df[\"Months\"] == \"October\"].groupby(\"gender\").mean()\n",
        "mean_f_bal_oct = df_gen_oct[\"balance\"].iloc[0]\n",
        "mean_m_bal_oct = df_gen_oct[\"balance\"].iloc[1]\n",
        "n_points = len(df_cus_oct[\"age\"])\n",
        "plt.scatter(df_cus_oct[\"age\"], df_cus_oct[\"balance\"], c=\"black\", label=\"Balance\")\n",
        "plt.plot(df_cus_oct[\"age\"], np.linspace(mean_f_bal_oct,mean_f_bal_oct,n_points), c=\"r\", label = \"Mean female balance\")\n",
        "plt.plot(df_cus_oct[\"age\"], np.linspace(mean_m_bal_oct,mean_m_bal_oct,n_points), c=\"b\", label = \"Mean male balance\")\n",
        "plt.title(\"ANZ Customer Balance vs. Age for October\")\n",
        "plt.xlabel(\"Age (years)\")\n",
        "plt.ylabel(\"Balance ($)\")\n",
        "plt.legend()\n",
        "plt.tight_layout()\n",
        "\n"
      ],
      "execution_count": 22,
      "outputs": [
        {
          "output_type": "display_data",
          "data": {
            "image/png": "[encoded data removed]",
            "text/plain": [
              "<Figure size 432x288 with 1 Axes>"
            ]
          },
          "metadata": {
            "tags": [],
            "needs_background": "light"
          }
        }
      ]
    },
    {
      "cell_type": "code",
      "metadata": {
        "id": "hx6RWFlLmYOE",
        "colab_type": "code",
        "colab": {
          "base_uri": "https://localhost:8080/",
          "height": 297
        },
        "outputId": "4b1dd808-5acc-40b3-bd49-a6c6a3f53305"
      },
      "source": [
        "mean_f_amt_oct = df_gen_oct[\"amount\"].iloc[0]\n",
        "mean_m_amt_oct = df_gen_oct[\"amount\"].iloc[1]\n",
        "plt.plot(df_cus_oct[\"age\"], np.linspace(mean_f_amt_oct,mean_f_amt_oct,n_points), c=\"r\", label = \"Mean female amount\")\n",
        "plt.plot(df_cus_oct[\"age\"], np.linspace(mean_m_amt_oct,mean_m_amt_oct,n_points), c=\"b\", label = \"Mean male amount\")\n",
        "plt.title(\"ANZ Customer Mean Payment Amount vs. Age for October\")\n",
        "plt.xlabel(\"Age (years)\")\n",
        "plt.ylabel(\"Amount ($)\")\n",
        "plt.legend()\n",
        "plt.tight_layout()\n",
        "\n"
      ],
      "execution_count": 23,
      "outputs": [
        {
          "output_type": "display_data",
          "data": {
            "image/png": "[encoded data removed]",
            "text/plain": [
              "<Figure size 432x288 with 1 Axes>"
            ]
          },
          "metadata": {
            "tags": [],
            "needs_background": "light"
          }
        }
      ]
    },
    {
      "cell_type": "code",
      "metadata": {
        "id": "huQ9Eg2-mo1x",
        "colab_type": "code",
        "colab": {}
      },
      "source": [
        ""
      ],
      "execution_count": null,
      "outputs": []
    }
  ]
}